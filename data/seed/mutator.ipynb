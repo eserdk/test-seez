{
 "cells": [
  {
   "cell_type": "code",
   "execution_count": 28,
   "metadata": {
    "collapsed": true,
    "pycharm": {
     "is_executing": false,
     "name": "#%%\n"
    }
   },
   "outputs": [],
   "source": [
    "import pandas as pd\n",
    "\n",
    "makes = pd.read_csv('makes.csv')\n",
    "models = pd.read_csv('models.csv')\n",
    "submodels = pd.read_csv('submodels.csv')\n",
    "cars = pd.read_csv('cars.csv')\n",
    "cars.drop(labels=['make_id', 'model_id'], inplace=True, axis=1)\n",
    "\n",
    "makes.rename(columns={x: f'make_{x}' for x in makes.columns}, inplace=True)\n",
    "models.rename(columns={x: f'model_{x}' for x in models.columns}, inplace=True)\n",
    "submodels.rename(columns={x: f'submodel_{x}' for x in submodels.columns}, inplace=True)\n",
    "cars.rename(columns={x: f'car_{x}' for x in cars.columns}, inplace=True)\n",
    "\n",
    "data = makes.merge(models, left_on='make_id', right_on='model_make_id')\n",
    "data = data.merge(submodels, left_on='model_id', right_on='submodel_model_id')\n",
    "data = data.merge(cars, left_on='submodel_id', right_on='car_submodel_id')\n",
    "data.drop(labels=['model_make_id', 'submodel_model_id'], inplace=True, axis=1)\n",
    "data.to_csv('data.csv', index=False)\n"
   ]
  }
 ],
 "metadata": {
  "language_info": {
   "codemirror_mode": {
    "name": "ipython",
    "version": 2
   },
   "file_extension": ".py",
   "mimetype": "text/x-python",
   "name": "python",
   "nbconvert_exporter": "python",
   "pygments_lexer": "ipython2",
   "version": "2.7.6"
  },
  "kernelspec": {
   "name": "python3",
   "language": "python",
   "display_name": "Python 3"
  },
  "pycharm": {
   "stem_cell": {
    "cell_type": "raw",
    "source": [],
    "metadata": {
     "collapsed": false
    }
   }
  }
 },
 "nbformat": 4,
 "nbformat_minor": 0
}